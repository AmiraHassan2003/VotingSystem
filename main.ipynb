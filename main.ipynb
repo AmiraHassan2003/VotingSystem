{
 "cells": [
  {
   "cell_type": "code",
   "execution_count": null,
   "metadata": {},
   "outputs": [],
   "source": []
  },
  {
   "cell_type": "markdown",
   "metadata": {},
   "source": [
    " # Voting System"
   ]
  },
  {
   "cell_type": "code",
   "execution_count": 1,
   "metadata": {},
   "outputs": [
    {
     "name": "stdout",
     "output_type": "stream",
     "text": [
      "2\n",
      "1\n",
      "winner is:  A2\n"
     ]
    }
   ],
   "source": [
    "class VotingSystem():\n",
    "    candidatesVote = {}\n",
    "    def __init__(self):\n",
    "        pass\n",
    "\n",
    "    def add_candidate(self, name):\n",
    "        if self.candidatesVote.get(name):\n",
    "            pass\n",
    "        else:\n",
    "            self.candidatesVote[name] = 0\n",
    "    \n",
    "    def vote(self, name):\n",
    "        self.candidatesVote[name] += 1\n",
    "    \n",
    "    def getResult(self, name):\n",
    "        return self.candidatesVote[name]\n",
    "    \n",
    "    def displayWinner(self):\n",
    "        winner = [(value,key) for key, value in self.candidatesVote.items()]\n",
    "        winner = sorted(winner)[len(winner)-1][1]\n",
    "        return winner\n",
    " \n",
    "voting = VotingSystem()\n",
    "voting.add_candidate(\"A1\")\n",
    "voting.add_candidate(\"A2\")\n",
    "voting.add_candidate(\"A3\")\n",
    "voting.add_candidate(\"A4\")\n",
    "\n",
    "voting.vote(\"A2\")\n",
    "voting.vote(\"A3\")\n",
    "voting.vote(\"A2\")\n",
    "\n",
    "print(voting.getResult(\"A2\"))\n",
    "print(voting.getResult(\"A3\"))\n",
    "\n",
    "\n",
    "print(\"winner is: \",voting.displayWinner())\n",
    "\n",
    "\n",
    "\n"
   ]
  }
 ],
 "metadata": {
  "kernelspec": {
   "display_name": "Python 3",
   "language": "python",
   "name": "python3"
  },
  "language_info": {
   "codemirror_mode": {
    "name": "ipython",
    "version": 3
   },
   "file_extension": ".py",
   "mimetype": "text/x-python",
   "name": "python",
   "nbconvert_exporter": "python",
   "pygments_lexer": "ipython3",
   "version": "3.13.0"
  }
 },
 "nbformat": 4,
 "nbformat_minor": 2
}
